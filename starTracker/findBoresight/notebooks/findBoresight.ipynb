{
 "cells": [
  {
   "cell_type": "code",
   "execution_count": null,
   "id": "02aeb12c",
   "metadata": {
    "execution": {
     "iopub.execute_input": "2023-03-10T18:48:04.201366Z",
     "iopub.status.busy": "2023-03-10T18:48:04.200958Z",
     "iopub.status.idle": "2023-03-10T18:48:04.693561Z",
     "shell.execute_reply": "2023-03-10T18:48:04.693090Z",
     "shell.execute_reply.started": "2023-03-10T18:48:04.201341Z"
    },
    "tags": []
   },
   "outputs": [
    {
     "data": {
      "application/javascript": [
       "IPython.notebook.set_autosave_interval(60000)"
      ]
     },
     "metadata": {},
     "output_type": "display_data"
    },
    {
     "name": "stdout",
     "output_type": "stream",
     "text": [
      "Autosaving every 60 seconds\n"
     ]
    }
   ],
   "source": [
    "%matplotlib inline\n",
    "%autosave 60\n",
    "\n",
    "import matplotlib.pyplot as plt\n",
    "import numpy as np\n",
    "import glob\n",
    "import os\n",
    "import random\n",
    "import sys\n",
    "sys.path.append('../boresightUtils/')\n",
    "\n",
    "from astropy.io import fits\n",
    "from astropy.time import Time\n",
    "from scipy.stats import sigmaclip\n",
    "from astropy import units as u\n",
    "from scipy.ndimage import gaussian_filter, median_filter\n",
    "from boresightUtils import *"
   ]
  },
  {
   "cell_type": "code",
   "execution_count": null,
   "id": "e8b2363d",
   "metadata": {
    "execution": {
     "iopub.execute_input": "2023-03-10T18:49:11.709104Z",
     "iopub.status.busy": "2023-03-10T18:49:11.708834Z",
     "iopub.status.idle": "2023-03-10T18:49:11.723708Z",
     "shell.execute_reply": "2023-03-10T18:49:11.723305Z",
     "shell.execute_reply.started": "2023-03-10T18:49:11.709087Z"
    },
    "tags": []
   },
   "outputs": [
    {
     "name": "stdout",
     "output_type": "stream",
     "text": [
      "['/home/adriansh95/DATA/sitcom/starTracker/tmaTests/procFits/GC102_O_20221122_000003.fits', '/home/adriansh95/DATA/sitcom/starTracker/tmaTests/procFits/GC102_O_20221122_000004.fits', '/home/adriansh95/DATA/sitcom/starTracker/tmaTests/procFits/GC102_O_20221122_000005.fits', '/home/adriansh95/DATA/sitcom/starTracker/tmaTests/procFits/GC102_O_20221122_000006.fits', '/home/adriansh95/DATA/sitcom/starTracker/tmaTests/procFits/GC102_O_20221122_000030.fits', '/home/adriansh95/DATA/sitcom/starTracker/tmaTests/procFits/GC102_O_20221122_000031.fits', '/home/adriansh95/DATA/sitcom/starTracker/tmaTests/procFits/GC102_O_20221122_000032.fits', '/home/adriansh95/DATA/sitcom/starTracker/tmaTests/procFits/GC102_O_20221122_000033.fits', '/home/adriansh95/DATA/sitcom/starTracker/tmaTests/procFits/GC102_O_20221122_000034.fits', '/home/adriansh95/DATA/sitcom/starTracker/tmaTests/procFits/GC102_O_20221122_000035.fits', '/home/adriansh95/DATA/sitcom/starTracker/tmaTests/procFits/GC102_O_20221122_000036.fits', '/home/adriansh95/DATA/sitcom/starTracker/tmaTests/procFits/GC102_O_20221122_000037.fits', '/home/adriansh95/DATA/sitcom/starTracker/tmaTests/procFits/GC102_O_20221122_000038.fits', '/home/adriansh95/DATA/sitcom/starTracker/tmaTests/procFits/GC102_O_20221122_000039.fits', '/home/adriansh95/DATA/sitcom/starTracker/tmaTests/procFits/GC102_O_20221122_000040.fits', '/home/adriansh95/DATA/sitcom/starTracker/tmaTests/procFits/GC102_O_20221122_000041.fits', '/home/adriansh95/DATA/sitcom/starTracker/tmaTests/procFits/GC102_O_20221122_000042.fits', '/home/adriansh95/DATA/sitcom/starTracker/tmaTests/procFits/GC102_O_20221122_000043.fits', '/home/adriansh95/DATA/sitcom/starTracker/tmaTests/procFits/GC102_O_20221122_000044.fits', '/home/adriansh95/DATA/sitcom/starTracker/tmaTests/procFits/GC102_O_20221122_000045.fits', '/home/adriansh95/DATA/sitcom/starTracker/tmaTests/procFits/GC102_O_20221122_000046.fits', '/home/adriansh95/DATA/sitcom/starTracker/tmaTests/procFits/GC102_O_20221122_000047.fits', '/home/adriansh95/DATA/sitcom/starTracker/tmaTests/procFits/GC102_O_20221122_000048.fits', '/home/adriansh95/DATA/sitcom/starTracker/tmaTests/procFits/GC102_O_20221122_000049.fits', '/home/adriansh95/DATA/sitcom/starTracker/tmaTests/procFits/GC102_O_20221122_000050.fits', '/home/adriansh95/DATA/sitcom/starTracker/tmaTests/procFits/GC102_O_20221122_000051.fits', '/home/adriansh95/DATA/sitcom/starTracker/tmaTests/procFits/GC102_O_20221122_000052.fits', '/home/adriansh95/DATA/sitcom/starTracker/tmaTests/procFits/GC102_O_20221122_000053.fits', '/home/adriansh95/DATA/sitcom/starTracker/tmaTests/procFits/GC102_O_20221122_000054.fits', '/home/adriansh95/DATA/sitcom/starTracker/tmaTests/procFits/GC102_O_20221122_000055.fits', '/home/adriansh95/DATA/sitcom/starTracker/tmaTests/procFits/GC102_O_20221122_000056.fits', '/home/adriansh95/DATA/sitcom/starTracker/tmaTests/procFits/GC102_O_20221122_000057.fits', '/home/adriansh95/DATA/sitcom/starTracker/tmaTests/procFits/GC102_O_20221122_000058.fits', '/home/adriansh95/DATA/sitcom/starTracker/tmaTests/procFits/GC102_O_20221122_000059.fits', '/home/adriansh95/DATA/sitcom/starTracker/tmaTests/procFits/GC102_O_20221122_000060.fits', '/home/adriansh95/DATA/sitcom/starTracker/tmaTests/procFits/GC102_O_20221122_000061.fits', '/home/adriansh95/DATA/sitcom/starTracker/tmaTests/procFits/GC102_O_20221122_000062.fits', '/home/adriansh95/DATA/sitcom/starTracker/tmaTests/procFits/GC102_O_20221122_000063.fits', '/home/adriansh95/DATA/sitcom/starTracker/tmaTests/procFits/GC102_O_20221122_000064.fits', '/home/adriansh95/DATA/sitcom/starTracker/tmaTests/procFits/GC102_O_20221122_000065.fits', '/home/adriansh95/DATA/sitcom/starTracker/tmaTests/procFits/GC102_O_20221122_000066.fits', '/home/adriansh95/DATA/sitcom/starTracker/tmaTests/procFits/GC102_O_20221122_000067.fits', '/home/adriansh95/DATA/sitcom/starTracker/tmaTests/procFits/GC102_O_20221122_000068.fits', '/home/adriansh95/DATA/sitcom/starTracker/tmaTests/procFits/GC102_O_20221122_000069.fits']\n"
     ]
    }
   ],
   "source": [
    "# imageDir = '/home/adriansh/Pictures/work/lsst/startracker/fitsFiles' # Adrian local\n",
    "imageDir = '/home/adriansh95/DATA/sitcom/starTracker/tmaTests/procFits/' # Adrian summit\n",
    "cam = 'GC102'\n",
    "date = '20221122'\n",
    "stems = ''\n",
    "globStr = os.path.join(imageDir, f'{cam}*{date}*{stems}*.fits')\n",
    "files = sorted(glob.glob(globStr))\n",
    "print(files)"
   ]
  },
  {
   "cell_type": "code",
   "execution_count": null,
   "id": "020fcdcb-5112-46ba-8758-baf056f0a7c2",
   "metadata": {
    "execution": {
     "iopub.execute_input": "2023-03-10T18:49:14.875632Z",
     "iopub.status.busy": "2023-03-10T18:49:14.875360Z",
     "iopub.status.idle": "2023-03-10T18:49:14.940271Z",
     "shell.execute_reply": "2023-03-10T18:49:14.939796Z",
     "shell.execute_reply.started": "2023-03-10T18:49:14.875613Z"
    },
    "tags": []
   },
   "outputs": [
    {
     "name": "stdout",
     "output_type": "stream",
     "text": [
      "['/home/adriansh95/DATA/sitcom/starTracker/tmaTests/procFits/GC102_O_20221122_000042.fits']\n"
     ]
    }
   ],
   "source": [
    "darkStem = '000042'\n",
    "darkStr = os.path.join(imageDir, f'{cam}*{date}*{darkStem}.fits')\n",
    "darkList = sorted(glob.glob(darkStr))\n",
    "print(darkList)\n",
    "\n",
    "with fits.open(darkList[0]) as hdu:\n",
    "    superDark = hdu[1].data\n",
    "\n",
    "for darkIm in darkList[1:]:\n",
    "    with fits.open(darkIm) as hdu:\n",
    "        superDark += hdu[1].data\n",
    "\n",
    "superDark = superDark / len(darkList)"
   ]
  },
  {
   "cell_type": "code",
   "execution_count": null,
   "id": "db057b6b",
   "metadata": {
    "execution": {
     "iopub.execute_input": "2023-03-10T18:49:21.236663Z",
     "iopub.status.busy": "2023-03-10T18:49:21.236393Z",
     "iopub.status.idle": "2023-03-10T18:49:25.088629Z",
     "shell.execute_reply": "2023-03-10T18:49:25.088119Z",
     "shell.execute_reply.started": "2023-03-10T18:49:21.236646Z"
    },
    "tags": []
   },
   "outputs": [
    {
     "name": "stdout",
     "output_type": "stream",
     "text": [
      "[[-6.91927512]\n",
      " [-5.71114772]] -7.01377931695846\n"
     ]
    }
   ],
   "source": [
    "driftNum0 = '000062'\n",
    "driftNum1 = '000063'\n",
    "arcNum = '000044'\n",
    "driftIm0 = f'{cam}_O_{date}_{driftNum0}.fits'\n",
    "driftIm1 = f'{cam}_O_{date}_{driftNum1}.fits'\n",
    "arcIm = f'{cam}_O_{date}_{arcNum}.fits'\n",
    "\n",
    "with fits.open(os.path.join(imageDir, driftIm0)) as hdu:\n",
    "    dIm0 = hdu[1].data\n",
    "    t0 = Time(hdu[0].header['DATE-BEG'])\n",
    "       \n",
    "with fits.open(os.path.join(imageDir, driftIm1)) as hdu:\n",
    "    dIm1 = hdu[1].data\n",
    "    t1 = Time(hdu[0].header['DATE-BEG'])\n",
    "    phi = hdu[0].header['AZEND']\n",
    "\n",
    "with fits.open(os.path.join(imageDir, arcIm)) as hdu:\n",
    "    arcImage = hdu[1].data\n",
    "    azStart = hdu[0].header['AZSTART']\n",
    "    azEnd = hdu[0].header['AZEND']\n",
    "    arcT0 = Time(hdu[0].header['DATE-BEG'])\n",
    "    arcT1 = Time(hdu[0].header['DATE-END'])\n",
    "   \n",
    "thetaInit = azStart - phi\n",
    "dt = t1 - t0\n",
    "dt = dt.to(u.s).value\n",
    "totalDrift = measure_drift(dIm0, dIm1)\n",
    "driftRateRC = totalDrift / dt\n",
    "driftRate = np.array([[driftRateRC[1]], [-driftRateRC[0]]])\n",
    "\n",
    "dTheta = azEnd - azStart\n",
    "arcDt = arcT1 - arcT0\n",
    "arcDt = arcDt.to(u.s).value\n",
    "slewRate = dTheta / arcDt\n",
    "print(driftRate, slewRate)"
   ]
  },
  {
   "cell_type": "code",
   "execution_count": null,
   "id": "b45eaa50",
   "metadata": {
    "execution": {
     "iopub.execute_input": "2023-03-10T18:49:46.569115Z",
     "iopub.status.busy": "2023-03-10T18:49:46.568804Z"
    },
    "tags": []
   },
   "outputs": [],
   "source": [
    "rng = np.random.default_rng()\n",
    "height, width = arcImage.shape\n",
    "xMu = width / 2\n",
    "yMu = height / 2\n",
    "\n",
    "configDict = {\n",
    "    'expTime': arcDt,\n",
    "    'slewRate': slewRate,\n",
    "    'driftVel': driftRate,\n",
    "    'threshold': 0.3,\n",
    "    'rng': rng,\n",
    "    'imageWidth': width,\n",
    "    'imageHeight': height,\n",
    "    'gaussianBlurSigma': 1,\n",
    "    'xMu': xMu,\n",
    "    'yMu': yMu,\n",
    "    'pointingSigma': 100,\n",
    "    'nStars': 25,\n",
    "    }\n",
    "\n",
    "biases = calculate_drift_bias(configDict, thetaInit=thetaInit, tol=0.001, nTrials=20)\n",
    "bias = biases.mean(axis=0)"
   ]
  },
  {
   "cell_type": "code",
   "execution_count": null,
   "id": "fdf4d2ff",
   "metadata": {
    "tags": []
   },
   "outputs": [],
   "source": [
    "print(biases, bias, biases.std(axis=0), biases.std(axis=0)/np.sqrt(len(biases)))"
   ]
  },
  {
   "cell_type": "code",
   "execution_count": 30,
   "id": "732ce49c",
   "metadata": {
    "execution": {
     "iopub.execute_input": "2023-01-07T02:25:32.045613Z",
     "iopub.status.busy": "2023-01-07T02:25:32.045448Z",
     "iopub.status.idle": "2023-01-07T02:32:01.181728Z",
     "shell.execute_reply": "2023-01-07T02:32:01.181254Z",
     "shell.execute_reply.started": "2023-01-07T02:25:32.045599Z"
    },
    "tags": []
   },
   "outputs": [],
   "source": [
    "arcImage = arcImage - superDark\n",
    "gSig = 7\n",
    "nStd = 4\n",
    "arcImage = gaussian_filter(arcImage, sigma=gSig)\n",
    "c, low, high = sigmaclip(arcImage)\n",
    "mean = c.mean()\n",
    "std = c.std()\n",
    "tArcImage = np.where(arcImage > mean+nStd*std, 1, 0)\n",
    "nTrials = 20\n",
    "boresights = np.zeros((nTrials, 2))\n",
    "\n",
    "for i in range(nTrials):\n",
    "    boresights[i] = find_boresight_naive(tArcImage)"
   ]
  },
  {
   "cell_type": "code",
   "execution_count": 31,
   "id": "a8414a3f",
   "metadata": {
    "execution": {
     "iopub.execute_input": "2023-01-07T02:32:01.182550Z",
     "iopub.status.busy": "2023-01-07T02:32:01.182364Z",
     "iopub.status.idle": "2023-01-07T02:32:01.186024Z",
     "shell.execute_reply": "2023-01-07T02:32:01.185654Z",
     "shell.execute_reply.started": "2023-01-07T02:32:01.182535Z"
    },
    "tags": []
   },
   "outputs": [
    {
     "name": "stdout",
     "output_type": "stream",
     "text": [
      "[[ 920.55580143 1815.21904845]\n",
      " [ 920.55954887 1814.51687979]\n",
      " [ 921.10778749 1815.14284205]\n",
      " [ 921.41636264 1814.90135137]\n",
      " [ 920.37217954 1815.79380482]\n",
      " [ 921.58160123 1814.48564638]\n",
      " [ 921.35700227 1814.27725601]\n",
      " [ 919.760524   1815.76741575]\n",
      " [ 920.4466606  1815.51839988]\n",
      " [ 920.26292944 1814.90556337]\n",
      " [ 920.32261306 1815.24928941]\n",
      " [ 920.77684454 1815.20394826]\n",
      " [ 919.44491726 1815.07117534]\n",
      " [ 920.70575051 1815.36232161]\n",
      " [ 920.97459391 1815.44380815]\n",
      " [ 921.55900533 1813.91456464]\n",
      " [ 921.10368182 1815.1499765 ]\n",
      " [ 920.62099775 1815.07467003]\n",
      " [ 919.57356458 1815.79056202]\n",
      " [ 919.65570345 1814.56043887]] [0.63521698 0.49827981] [0.14203883 0.11141875]\n"
     ]
    }
   ],
   "source": [
    "print(boresights, boresights.std(axis=0), boresights.std(axis=0)/np.sqrt(len(boresights)))"
   ]
  },
  {
   "cell_type": "code",
   "execution_count": 4,
   "id": "d3c7b0ac",
   "metadata": {
    "execution": {
     "iopub.execute_input": "2023-02-20T19:09:47.683187Z",
     "iopub.status.busy": "2023-02-20T19:09:47.682913Z",
     "iopub.status.idle": "2023-02-20T19:09:47.800276Z",
     "shell.execute_reply": "2023-02-20T19:09:47.799529Z",
     "shell.execute_reply.started": "2023-02-20T19:09:47.683170Z"
    },
    "tags": []
   },
   "outputs": [
    {
     "ename": "NameError",
     "evalue": "name 'boresights' is not defined",
     "output_type": "error",
     "traceback": [
      "\u001b[0;31m---------------------------------------------------------------------------\u001b[0m",
      "\u001b[0;31mNameError\u001b[0m                                 Traceback (most recent call last)",
      "Input \u001b[0;32mIn [4]\u001b[0m, in \u001b[0;36m<cell line: 1>\u001b[0;34m()\u001b[0m\n\u001b[0;32m----> 1\u001b[0m boresight \u001b[38;5;241m=\u001b[39m \u001b[43mboresights\u001b[49m\u001b[38;5;241m.\u001b[39mmean(axis\u001b[38;5;241m=\u001b[39m\u001b[38;5;241m0\u001b[39m) \u001b[38;5;241m-\u001b[39m bias\n\u001b[1;32m      2\u001b[0m boresightSigma \u001b[38;5;241m=\u001b[39m boresights\u001b[38;5;241m.\u001b[39mstd(axis\u001b[38;5;241m=\u001b[39m\u001b[38;5;241m0\u001b[39m)\u001b[38;5;241m/\u001b[39mnp\u001b[38;5;241m.\u001b[39msqrt(\u001b[38;5;28mlen\u001b[39m(boresights)) \u001b[38;5;241m+\u001b[39m biases\u001b[38;5;241m.\u001b[39mstd(axis\u001b[38;5;241m=\u001b[39m\u001b[38;5;241m0\u001b[39m)\u001b[38;5;241m/\u001b[39mnp\u001b[38;5;241m.\u001b[39msqrt(\u001b[38;5;28mlen\u001b[39m(biases))\n\u001b[1;32m      3\u001b[0m plot_arc_image(tArcImage, boresight\u001b[38;5;241m=\u001b[39mboresight, saveFig\u001b[38;5;241m=\u001b[39m\u001b[38;5;28;01mTrue\u001b[39;00m, figName\u001b[38;5;241m=\u001b[39m\u001b[38;5;124m'\u001b[39m\u001b[38;5;124mGC102_O_20221122_000043_marked.png\u001b[39m\u001b[38;5;124m'\u001b[39m)\n",
      "\u001b[0;31mNameError\u001b[0m: name 'boresights' is not defined"
     ]
    }
   ],
   "source": [
    "boresight = boresights.mean(axis=0) - bias\n",
    "boresightSigma = boresights.std(axis=0)/np.sqrt(len(boresights)) + biases.std(axis=0)/np.sqrt(len(biases))\n",
    "plot_arc_image(tArcImage, boresight=boresight, saveFig=True, figName='GC102_O_20221122_000043_marked.png')\n",
    "print(boresight, boresightSigma)"
   ]
  },
  {
   "cell_type": "code",
   "execution_count": null,
   "id": "928dcff6-1959-4737-a2cf-a8940b107d36",
   "metadata": {},
   "outputs": [],
   "source": []
  }
 ],
 "metadata": {
  "kernelspec": {
   "display_name": "LSST",
   "language": "python",
   "name": "lsst"
  },
  "language_info": {
   "codemirror_mode": {
    "name": "ipython",
    "version": 3
   },
   "file_extension": ".py",
   "mimetype": "text/x-python",
   "name": "python",
   "nbconvert_exporter": "python",
   "pygments_lexer": "ipython3",
   "version": "3.10.9"
  }
 },
 "nbformat": 4,
 "nbformat_minor": 5
}
