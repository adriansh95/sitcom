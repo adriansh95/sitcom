{
 "cells": [
  {
   "cell_type": "markdown",
   "metadata": {},
   "source": [
    "## StarTracker Tracking drift check - 28-Mar-23\n",
    "\n",
    "HyeYun Park - checking calibrated ra and dec during tracking"
   ]
  },
  {
   "cell_type": "code",
   "execution_count": 1,
   "metadata": {
    "execution": {
     "iopub.execute_input": "2023-03-29T19:50:29.522827Z",
     "iopub.status.busy": "2023-03-29T19:50:29.522479Z",
     "iopub.status.idle": "2023-03-29T19:50:29.777867Z",
     "shell.execute_reply": "2023-03-29T19:50:29.777376Z",
     "shell.execute_reply.started": "2023-03-29T19:50:29.522809Z"
    },
    "tags": []
   },
   "outputs": [],
   "source": [
    "import pandas as pd\n",
    "import matplotlib.pyplot as plt\n",
    "import numpy as np\n",
    "from astropy.time import Time, TimeDelta\n",
    "\n",
    "from matplotlib.ticker import FormatStrFormatter"
   ]
  },
  {
   "cell_type": "code",
   "execution_count": 2,
   "metadata": {
    "execution": {
     "iopub.execute_input": "2023-03-29T19:50:29.788496Z",
     "iopub.status.busy": "2023-03-29T19:50:29.788363Z",
     "iopub.status.idle": "2023-03-29T19:50:29.795926Z",
     "shell.execute_reply": "2023-03-29T19:50:29.795573Z",
     "shell.execute_reply.started": "2023-03-29T19:50:29.788481Z"
    },
    "tags": []
   },
   "outputs": [],
   "source": [
    "#plotting ra and dec vs time with linear fit \n",
    "def ra_dec_time_plot(data, start_seq, end_seq):\n",
    "    days_per_hour = 1/24 * 1/60 * 1/60\n",
    "    arcsec_per_deg = 60**2\n",
    "    \n",
    "    #Selecting range of seq number of one tracking\n",
    "    calculated_ra = data['Calculated Ra'].values.astype(float)[start_seq: end_seq]\n",
    "    calculated_dec = data['Calculated Dec'].values.astype(float)[start_seq: end_seq]\n",
    "    time_array = data['MJD'].values.astype(float)[start_seq: end_seq]\n",
    "    \n",
    "    time_mjd = Time(time_array, format='mjd', scale='utc')\n",
    "    time_mjd.format = 'fits'\n",
    "    date = time_mjd.strftime('%Y %b %d')[0]\n",
    "    \n",
    "    #making linear fit for ra vs time, dec vs time\n",
    "    coef_ra = np.polyfit(time_array, calculated_ra, 1)\n",
    "    poly1d_fn_ra = np.poly1d(coef_ra) \n",
    "    slope_ra = coef_ra[0] * days_per_hour * arcsec_per_deg\n",
    "    \n",
    "    coef_dec = np.polyfit(time_array, calculated_dec, 1)\n",
    "    poly1d_fn_dec = np.poly1d(coef_dec) \n",
    "    slope_dec = coef_dec[0] * days_per_hour * arcsec_per_deg\n",
    "    \n",
    "    #plotting\n",
    "    plt.set_loglevel('WARNING')\n",
    "    fig, (ax1, ax2) = plt.subplots(2, 1, figsize=(10, 10), sharex=True)\n",
    "    fig.subplots_adjust(hspace=0)\n",
    "    \n",
    "    ax1.set_title(f'Calculated Ra & Dec {date}, seq num {start_seq}~{end_seq} ', fontsize=16)\n",
    "    ax1.scatter(time_array, calculated_ra,  s=25)\n",
    "    ax1.plot(time_array, poly1d_fn_ra(time_array), '--k')\n",
    "    ax1.set_ylabel('Calculated Ra', fontsize=14)\n",
    "    ax1.tick_params(axis='x', labelrotation=30)\n",
    "    ax1.text(x=time_array[len(time_array)//8], y=np.max(calculated_ra),\n",
    "             s=f\"slope={slope_ra:.4e} (arcsec / sec)\", bbox=dict(facecolor='white', alpha=0.5))\n",
    "    ax1.yaxis.set_major_formatter(FormatStrFormatter('%.4f'))\n",
    "    \n",
    "    ax2.scatter(time_array, calculated_dec, s=25)\n",
    "    ax2.plot(time_array, poly1d_fn_dec(time_array), '--k')\n",
    "    xticks = ax2.get_xticks()\n",
    "    xticklabels_time = Time(xticks, format=\"mjd\", scale=\"utc\")\n",
    "    clock_time = xticklabels_time.strftime('%H:%M:%S')\n",
    "    ax2.set_xticks(xticks, labels=clock_time)\n",
    "    ax2.set_ylabel('Calculated Dec', fontsize=14)\n",
    "    ax2.set_xlabel('Time (utc)', fontsize=14)\n",
    "    ax2.text(x=time_array[len(time_array)//8], y=np.max(calculated_dec),\n",
    "             s=f\"slope={slope_dec:.4e} (arcsec / sec)\", bbox=dict(facecolor='white', alpha=0.5))\n",
    "    ax2.yaxis.set_major_formatter(FormatStrFormatter('%.4f'))\n",
    "\n",
    "    plt.show(),"
   ]
  },
  {
   "cell_type": "code",
   "execution_count": 3,
   "metadata": {
    "execution": {
     "iopub.execute_input": "2023-03-29T19:50:29.797757Z",
     "iopub.status.busy": "2023-03-29T19:50:29.797486Z",
     "iopub.status.idle": "2023-03-29T19:50:30.175928Z",
     "shell.execute_reply": "2023-03-29T19:50:30.175466Z",
     "shell.execute_reply.started": "2023-03-29T19:50:29.797743Z"
    },
    "tags": []
   },
   "outputs": [],
   "source": [
    "dayObs = 20230309\n",
    "mdFilename = os.path.join('/project/rubintv/starTracker/sidecar_metadata', f'dayObs_{dayObs}.json')\n",
    "metadata = pd.read_json(mdFilename).T\n",
    "metadata = metadata.sort_index()"
   ]
  },
  {
   "cell_type": "markdown",
   "metadata": {},
   "source": [
    "picking the seq number based on the night log \n",
    "https://confluence.lsstcorp.org/display/LSSTCOM/23.03.09+StarTracker+Night+Log"
   ]
  },
  {
   "cell_type": "code",
   "execution_count": null,
   "metadata": {
    "execution": {
     "iopub.execute_input": "2023-03-29T19:50:30.177876Z",
     "iopub.status.busy": "2023-03-29T19:50:30.177744Z"
    },
    "tags": []
   },
   "outputs": [],
   "source": [
    "ra_dec_time_plot(metadata, 2, 112)"
   ]
  },
  {
   "cell_type": "code",
   "execution_count": null,
   "metadata": {
    "tags": []
   },
   "outputs": [],
   "source": [
    "#for seq number 113~230\n",
    "ra_dec_time_plot(metadata, 113, 230)"
   ]
  },
  {
   "cell_type": "code",
   "execution_count": null,
   "metadata": {
    "tags": []
   },
   "outputs": [],
   "source": [
    "#for seq number 249~573\n",
    "ra_dec_time_plot(metadata, 249, 573)"
   ]
  },
  {
   "cell_type": "code",
   "execution_count": null,
   "metadata": {},
   "outputs": [],
   "source": []
  }
 ],
 "metadata": {
  "kernelspec": {
   "display_name": "LSST",
   "language": "python",
   "name": "lsst"
  },
  "language_info": {
   "codemirror_mode": {
    "name": "ipython",
    "version": 3
   },
   "file_extension": ".py",
   "mimetype": "text/x-python",
   "name": "python",
   "nbconvert_exporter": "python",
   "pygments_lexer": "ipython3",
   "version": "3.10.9"
  }
 },
 "nbformat": 4,
 "nbformat_minor": 4
}
